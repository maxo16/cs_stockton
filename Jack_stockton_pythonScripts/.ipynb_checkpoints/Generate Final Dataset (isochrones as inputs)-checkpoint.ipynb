{
 "cells": [
  {
   "cell_type": "markdown",
   "metadata": {},
   "source": [
    "# Imports"
   ]
  },
  {
   "cell_type": "code",
   "execution_count": 1,
   "metadata": {},
   "outputs": [],
   "source": [
    "import osmnx as ox, networkx as nx, geopandas as gpd, matplotlib.pyplot as plt\n",
    "from shapely.geometry import Point, LineString, Polygon, MultiPolygon\n",
    "from descartes import PolygonPatch\n",
    "import shapely\n",
    "import pandas as pd\n",
    "import numpy as np\n",
    "ox.config(log_console=True, use_cache=True)"
   ]
  },
  {
   "cell_type": "code",
   "execution_count": null,
   "metadata": {},
   "outputs": [],
   "source": [
    "amenities = pd.read_csv(\"safegraphplaces_best.csv\")\n",
    "APW = gpd.read_file(\"airportwayparcelsfinal/airportwayparcels.shp\")\n",
    "\n",
    "amenities['geometry'] = amenities.apply(lambda z: Point(z.longitude, z.latitude), axis=1)\n",
    "amenities = gpd.GeoDataFrame(amenities)\n",
    "\n",
    "amenities.crs = {'init' :'epsg:4326'}\n",
    "#amenities = amenities.to_crs(epsg = 4326)\n",
    "APW = APW.to_crs(epsg = 4326)"
   ]
  },
  {
   "cell_type": "code",
   "execution_count": null,
   "metadata": {},
   "outputs": [],
   "source": [
    "#Stockton Blocks\n",
    "BGs = gpd.read_file('blocks/Census2010Block.shp')\n",
    "BGs = BGs.to_crs(epsg = 4326)\n",
    "\n",
    "city = ox.gdf_from_place('Stockton, California, USA')\n",
    "\n",
    "#Generate geodataframe of blocks WITHIN the city of stockton\n",
    "BGs = gpd.overlay(BGs, city, how='intersection')"
   ]
  },
  {
   "cell_type": "markdown",
   "metadata": {},
   "source": [
    "# Create individual matrices by travel time"
   ]
  },
  {
   "cell_type": "code",
   "execution_count": null,
   "metadata": {},
   "outputs": [],
   "source": [
    "blockMatrix = pd.DataFrame(index = amenities.safegraph_place_id, columns=BGs.GEOID10)"
   ]
  },
  {
   "cell_type": "code",
   "execution_count": null,
   "metadata": {},
   "outputs": [],
   "source": [
    "for i in range(0,len(APW)):\n",
    "    parcel = APW.ix[i,:]\n",
    "    blockMatrix.loc[parcel.APN] = list(blockMatrix.head(1).values[0])"
   ]
  },
  {
   "cell_type": "code",
   "execution_count": null,
   "metadata": {
    "scrolled": true
   },
   "outputs": [],
   "source": [
    "blockMatrix_car = blockMatrix.copy()\n",
    "blockMatrix_bike = blockMatrix.copy()\n",
    "blockMatrix_walk = blockMatrix.copy()\n",
    "blockMatrix_transit = blockMatrix.copy()"
   ]
  },
  {
   "cell_type": "code",
   "execution_count": null,
   "metadata": {},
   "outputs": [],
   "source": [
    "columns = list(blockMatrix.columns.values)"
   ]
  },
  {
   "cell_type": "code",
   "execution_count": null,
   "metadata": {},
   "outputs": [],
   "source": [
    "index_vals = list(blockMatrix.index)"
   ]
  },
  {
   "cell_type": "code",
   "execution_count": null,
   "metadata": {},
   "outputs": [],
   "source": [
    "isochrone_polys_drive = pd.read_csv('isochrone_polys_car.csv')"
   ]
  },
  {
   "cell_type": "code",
   "execution_count": null,
   "metadata": {
    "scrolled": true
   },
   "outputs": [],
   "source": [
    "#start_time = timeit.default_timer()\n",
    "#consider spatial join/intersection\n",
    "trip_times = [1, 3, 5, 10, 15, 20, 25, 30]\n",
    "count = 0\n",
    "weirdBlocks = []\n",
    "for i in range(0,len(isochrone_polys_drive)):\n",
    "    #Read in isochrones, amenities and parcels\n",
    "    amenities_GEO = gpd.GeoDataFrame(amenities.geometry, geometry=amenities.geometry)\n",
    "    APW_GEO = gpd.GeoDataFrame(APW.geometry.centroid, geometry=APW.geometry.centroid)\n",
    "    iso = isochrone_polys_drive.ix[i]\n",
    "    iso0 = shapely.wkt.loads(iso[1])\n",
    "    iso1 = shapely.wkt.loads(iso[2])\n",
    "    iso2 = shapely.wkt.loads(iso[3])\n",
    "    iso3 = shapely.wkt.loads(iso[4])\n",
    "    iso4 = shapely.wkt.loads(iso[5])\n",
    "    iso5 = shapely.wkt.loads(iso[6])\n",
    "    iso6 = shapely.wkt.loads(iso[7])\n",
    "    iso7 = shapely.wkt.loads(iso[8])\n",
    "    #Create buffer rings from the polygons - catching errors where an isochrone fails\n",
    "    try:\n",
    "        block_SHAPE = gpd.GeoDataFrame(gpd.GeoSeries(MultiPolygon([iso0.symmetric_difference(iso1),\n",
    "            iso1.symmetric_difference(iso2),\n",
    "            iso2.symmetric_difference(iso3),\n",
    "            iso3.symmetric_difference(iso4),\n",
    "            iso4.symmetric_difference(iso5),\n",
    "            iso5.symmetric_difference(iso6),\n",
    "            iso6.symmetric_difference(iso7),iso7]).geoms), geometry=gpd.GeoSeries(MultiPolygon([iso0.symmetric_difference(iso1),\n",
    "            iso1.symmetric_difference(iso2),\n",
    "            iso2.symmetric_difference(iso3),\n",
    "            iso3.symmetric_difference(iso4),\n",
    "            iso4.symmetric_difference(iso5),\n",
    "            iso5.symmetric_difference(iso6),\n",
    "            iso6.symmetric_difference(iso7),iso7]).geoms))\n",
    "    except:\n",
    "        TypeError\n",
    "        try:\n",
    "            block_SHAPE = gpd.GeoDataFrame(gpd.GeoSeries(MultiPolygon([iso0.symmetric_difference(iso1),\n",
    "                iso1.symmetric_difference(iso2),\n",
    "                iso2.symmetric_difference(iso3),\n",
    "                iso3.symmetric_difference(iso4),\n",
    "                iso4.symmetric_difference(iso5),\n",
    "                iso5.symmetric_difference(iso7),iso7]).geoms), geometry=gpd.GeoSeries(MultiPolygon([iso0.symmetric_difference(iso1),\n",
    "                iso1.symmetric_difference(iso2),\n",
    "                iso2.symmetric_difference(iso3),\n",
    "                iso3.symmetric_difference(iso4),\n",
    "                iso4.symmetric_difference(iso5),\n",
    "                iso5.symmetric_difference(iso7),iso7]).geoms))\n",
    "        except:\n",
    "            TypeError\n",
    "            block_SHAPE = gpd.GeoDataFrame(gpd.GeoSeries(MultiPolygon([iso0.symmetric_difference(iso1),\n",
    "                iso1.symmetric_difference(iso2),\n",
    "                iso2.symmetric_difference(iso3),\n",
    "                iso3.symmetric_difference(iso4),\n",
    "                iso4.symmetric_difference(iso7),iso7]).geoms), geometry=gpd.GeoSeries(MultiPolygon([iso0.symmetric_difference(iso1),\n",
    "                iso1.symmetric_difference(iso2),\n",
    "                iso2.symmetric_difference(iso3),\n",
    "                iso3.symmetric_difference(iso4),\n",
    "                iso4.symmetric_difference(iso7),iso7]).geoms))\n",
    "    #Catch a unique driving isochrone issue - 30 + 25 minute isochrones are the same\n",
    "    if iso0.area == iso1.area:\n",
    "            block_SHAPE.index = block_SHAPE.index + 1\n",
    "            print(i)\n",
    "            print(\"SPECIAL CASE\")\n",
    "            weirdBlocks.append(i)\n",
    "    #Spatial overlap\n",
    "    spatial_op1 = list(gpd.sjoin(amenities_GEO, block_SHAPE, how=\"left\", op='within').index_right)\n",
    "    #print(spatial_op1)\n",
    "    spatial_op2 = list(gpd.sjoin(APW_GEO, block_SHAPE, how=\"left\", op='within').index_right)\n",
    "    #print(spatial_op2)\n",
    "    indexes = spatial_op1 + spatial_op2\n",
    "    #print(indexes)\n",
    "    #Add to index\n",
    "    blockMatrix_car.ix[:,i] = indexes\n",
    "    print(str(i) + \" out of \" + str(len(isochrone_polys_drive)))\n",
    "#elapsed = timeit.default_timer() - start_time\n",
    "#print(elapsed)"
   ]
  },
  {
   "cell_type": "code",
   "execution_count": null,
   "metadata": {},
   "outputs": [],
   "source": [
    "blockMatrix_car.to_csv('blockMatrix_car.gz',compression='gzip')"
   ]
  },
  {
   "cell_type": "code",
   "execution_count": null,
   "metadata": {},
   "outputs": [],
   "source": [
    "isochrone_polys_bike = pd.read_csv('isochrone_polys_bike.csv')"
   ]
  },
  {
   "cell_type": "code",
   "execution_count": null,
   "metadata": {},
   "outputs": [],
   "source": [
    "#start_time = timeit.default_timer()\n",
    "#consider spatial join/intersection\n",
    "#SEE COMMENTS ABOVE FOR PROCEDURE\n",
    "trip_times = [1, 3, 5, 10, 15, 20, 25, 30]\n",
    "count = 0\n",
    "for i in range(0,len(isochrone_polys_bike)):\n",
    "    amenities_GEO = gpd.GeoDataFrame(amenities.geometry, geometry=amenities.geometry)\n",
    "    APW_GEO = gpd.GeoDataFrame(APW.geometry.centroid, geometry=APW.geometry.centroid)\n",
    "    iso = isochrone_polys_bike.ix[i]\n",
    "    iso0 = shapely.wkt.loads(iso[1])\n",
    "    iso1 = shapely.wkt.loads(iso[2])\n",
    "    iso2 = shapely.wkt.loads(iso[3])\n",
    "    iso3 = shapely.wkt.loads(iso[4])\n",
    "    iso4 = shapely.wkt.loads(iso[5])\n",
    "    iso5 = shapely.wkt.loads(iso[6])\n",
    "    iso6 = shapely.wkt.loads(iso[7])\n",
    "    iso7 = shapely.wkt.loads(iso[8])\n",
    "    try:\n",
    "        block_SHAPE = gpd.GeoDataFrame(gpd.GeoSeries(MultiPolygon([iso0.symmetric_difference(iso1),\n",
    "            iso1.symmetric_difference(iso2),\n",
    "            iso2.symmetric_difference(iso3),\n",
    "            iso3.symmetric_difference(iso4),\n",
    "            iso4.symmetric_difference(iso5),\n",
    "            iso5.symmetric_difference(iso6),\n",
    "            iso6.symmetric_difference(iso7), iso7]).geoms), geometry=gpd.GeoSeries(MultiPolygon([iso0.symmetric_difference(iso1),\n",
    "            iso1.symmetric_difference(iso2),\n",
    "            iso2.symmetric_difference(iso3),\n",
    "            iso3.symmetric_difference(iso4),\n",
    "            iso4.symmetric_difference(iso5),\n",
    "            iso5.symmetric_difference(iso6),\n",
    "            iso6.symmetric_difference(iso7), iso7]).geoms))\n",
    "    except:\n",
    "        TypeError\n",
    "        try:\n",
    "            block_SHAPE = gpd.GeoDataFrame(gpd.GeoSeries(MultiPolygon([iso0.symmetric_difference(iso1),\n",
    "                iso1.symmetric_difference(iso2),\n",
    "                iso2.symmetric_difference(iso3),\n",
    "                iso3.symmetric_difference(iso4),\n",
    "                iso4.symmetric_difference(iso5),\n",
    "                iso5.symmetric_difference(iso7), iso7]).geoms), geometry=gpd.GeoSeries(MultiPolygon([iso0.symmetric_difference(iso1),\n",
    "                iso1.symmetric_difference(iso2),\n",
    "                iso2.symmetric_difference(iso3),\n",
    "                iso3.symmetric_difference(iso4),\n",
    "                iso4.symmetric_difference(iso5),\n",
    "                iso5.symmetric_difference(iso7), iso7]).geoms))\n",
    "        except:\n",
    "            TypeError\n",
    "            block_SHAPE = gpd.GeoDataFrame(gpd.GeoSeries(MultiPolygon([iso0.symmetric_difference(iso1),\n",
    "                iso1.symmetric_difference(iso2),\n",
    "                iso2.symmetric_difference(iso3),\n",
    "                iso3.symmetric_difference(iso4),\n",
    "                iso4.symmetric_difference(iso7), iso7]).geoms), geometry=gpd.GeoSeries(MultiPolygon([iso0.symmetric_difference(iso1),\n",
    "                iso1.symmetric_difference(iso2),\n",
    "                iso2.symmetric_difference(iso3),\n",
    "                iso3.symmetric_difference(iso4),\n",
    "                iso4.symmetric_difference(iso7), iso7]).geoms))\n",
    "        if iso0.area == iso1.area:\n",
    "            block_SHAPE.index = block_SHAPE.index + 1\n",
    "            print(i)\n",
    "            print(\"SPECIAL CASE\")\n",
    "    spatial_op1 = list(gpd.sjoin(amenities_GEO, block_SHAPE, how=\"left\", op='within').index_right)\n",
    "    #print(spatial_op1)\n",
    "    spatial_op2 = list(gpd.sjoin(APW_GEO, block_SHAPE, how=\"left\", op='within').index_right)\n",
    "    #print(spatial_op2)\n",
    "    indexes = spatial_op1 + spatial_op2\n",
    "    #print(indexes)\n",
    "    blockMatrix_bike.ix[:,i] = indexes\n",
    "    print(str(i) + \" out of \" + str(len(isochrone_polys_bike)))\n",
    "#elapsed = timeit.default_timer() - start_time\n",
    "#print(elapsed)"
   ]
  },
  {
   "cell_type": "code",
   "execution_count": null,
   "metadata": {},
   "outputs": [],
   "source": [
    "blockMatrix_bike.to_csv('blockMatrix_bike.gz',compression='gzip')"
   ]
  },
  {
   "cell_type": "code",
   "execution_count": null,
   "metadata": {},
   "outputs": [],
   "source": [
    "isochrone_polys_walk = pd.read_csv('isochrone_polys_walk.csv')"
   ]
  },
  {
   "cell_type": "code",
   "execution_count": null,
   "metadata": {
    "scrolled": true
   },
   "outputs": [],
   "source": [
    "#start_time = timeit.default_timer()\n",
    "#consider spatial join/intersection\n",
    "#SEE COMMENTS ABOVE FOR PROCEDURE\n",
    "trip_times = [1, 3, 5, 10, 15, 20, 25, 30]\n",
    "count = 0\n",
    "for i in range(0,2483):\n",
    "    amenities_GEO = gpd.GeoDataFrame(amenities.geometry, geometry=amenities.geometry)\n",
    "    APW_GEO = gpd.GeoDataFrame(APW.geometry.centroid, geometry=APW.geometry.centroid)\n",
    "    iso = isochrone_polys_walk.ix[i]\n",
    "    iso0 = shapely.wkt.loads(iso[1])\n",
    "    iso1 = shapely.wkt.loads(iso[2])\n",
    "    iso2 = shapely.wkt.loads(iso[3])\n",
    "    iso3 = shapely.wkt.loads(iso[4])\n",
    "    iso4 = shapely.wkt.loads(iso[5])\n",
    "    iso5 = shapely.wkt.loads(iso[6])\n",
    "    iso6 = shapely.wkt.loads(iso[7])\n",
    "    iso7 = shapely.wkt.loads(iso[8])\n",
    "    try:\n",
    "        block_SHAPE = gpd.GeoDataFrame(gpd.GeoSeries(MultiPolygon([iso0.symmetric_difference(iso1),\n",
    "            iso1.symmetric_difference(iso2),\n",
    "            iso2.symmetric_difference(iso3),\n",
    "            iso3.symmetric_difference(iso4),\n",
    "            iso4.symmetric_difference(iso5),\n",
    "            iso5.symmetric_difference(iso6),\n",
    "            iso6.symmetric_difference(iso7), iso7]).geoms), geometry=gpd.GeoSeries(MultiPolygon([iso0.symmetric_difference(iso1),\n",
    "            iso1.symmetric_difference(iso2),\n",
    "            iso2.symmetric_difference(iso3),\n",
    "            iso3.symmetric_difference(iso4),\n",
    "            iso4.symmetric_difference(iso5),\n",
    "            iso5.symmetric_difference(iso6),\n",
    "            iso6.symmetric_difference(iso7), iso7]).geoms))\n",
    "    except:\n",
    "        TypeError\n",
    "        try:\n",
    "            block_SHAPE = gpd.GeoDataFrame(gpd.GeoSeries(MultiPolygon([iso0.symmetric_difference(iso1),\n",
    "                iso1.symmetric_difference(iso2),\n",
    "                iso2.symmetric_difference(iso3),\n",
    "                iso3.symmetric_difference(iso4),\n",
    "                iso4.symmetric_difference(iso5),\n",
    "                iso5.symmetric_difference(iso7), iso7]).geoms), geometry=gpd.GeoSeries(MultiPolygon([iso0.symmetric_difference(iso1),\n",
    "                iso1.symmetric_difference(iso2),\n",
    "                iso2.symmetric_difference(iso3),\n",
    "                iso3.symmetric_difference(iso4),\n",
    "                iso4.symmetric_difference(iso5),\n",
    "                iso5.symmetric_difference(iso7), iso7]).geoms))\n",
    "        except:\n",
    "            TypeError\n",
    "            block_SHAPE = gpd.GeoDataFrame(gpd.GeoSeries(MultiPolygon([iso0.symmetric_difference(iso1),\n",
    "                iso1.symmetric_difference(iso2),\n",
    "                iso2.symmetric_difference(iso3),\n",
    "                iso3.symmetric_difference(iso4),\n",
    "                iso4.symmetric_difference(iso7), iso7]).geoms), geometry=gpd.GeoSeries(MultiPolygon([iso0.symmetric_difference(iso1),\n",
    "                iso1.symmetric_difference(iso2),\n",
    "                iso2.symmetric_difference(iso3),\n",
    "                iso3.symmetric_difference(iso4),\n",
    "                iso4.symmetric_difference(iso7), iso7]).geoms))\n",
    "    spatial_op1 = list(gpd.sjoin(amenities_GEO, block_SHAPE, how=\"left\", op='within').index_right)\n",
    "    #print(spatial_op1)\n",
    "    spatial_op2 = list(gpd.sjoin(APW_GEO, block_SHAPE, how=\"left\", op='within').index_right)\n",
    "    #print(spatial_op2)\n",
    "    indexes = spatial_op1 + spatial_op2\n",
    "    #print(indexes)\n",
    "    blockMatrix_walk.ix[:,i] = indexes\n",
    "    print(str(i) + \" out of \" + str(len(isochrone_polys_walk)))\n",
    "#elapsed = timeit.default_timer() - start_time\n",
    "#print(elapsed)"
   ]
  },
  {
   "cell_type": "code",
   "execution_count": null,
   "metadata": {},
   "outputs": [],
   "source": [
    "#Blocks where the isochrones are all points/lines\n",
    "blockMatrix_walk.ix[:,2483] = -1\n",
    "blockMatrix_walk.ix[:,2484] = -1\n",
    "blockMatrix_walk.ix[:,2906] = -1\n",
    "blockMatrix_walk.ix[:,2907] = -1\n",
    "blockMatrix_walk.ix[:,4359] = -1\n",
    "blockMatrix_walk.ix[:,4360] = -1\n",
    "blockMatrix_walk.ix[:,4361] = -1"
   ]
  },
  {
   "cell_type": "code",
   "execution_count": null,
   "metadata": {
    "scrolled": true
   },
   "outputs": [],
   "source": [
    "#start_time = timeit.default_timer()\n",
    "#consider spatial join/intersection\n",
    "trip_times = [1, 3, 5, 10, 15, 20, 25, 30]\n",
    "count = 0\n",
    "for i in range(2485,2906):\n",
    "    amenities_GEO = gpd.GeoDataFrame(amenities.geometry, geometry=amenities.geometry)\n",
    "    APW_GEO = gpd.GeoDataFrame(APW.geometry.centroid, geometry=APW.geometry.centroid)\n",
    "    iso = isochrone_polys_walk.ix[i]\n",
    "    iso0 = shapely.wkt.loads(iso[1])\n",
    "    iso1 = shapely.wkt.loads(iso[2])\n",
    "    iso2 = shapely.wkt.loads(iso[3])\n",
    "    iso3 = shapely.wkt.loads(iso[4])\n",
    "    iso4 = shapely.wkt.loads(iso[5])\n",
    "    iso5 = shapely.wkt.loads(iso[6])\n",
    "    iso6 = shapely.wkt.loads(iso[7])\n",
    "    iso7 = shapely.wkt.loads(iso[8])\n",
    "    try:\n",
    "        block_SHAPE = gpd.GeoDataFrame(gpd.GeoSeries(MultiPolygon([iso0.symmetric_difference(iso1),\n",
    "            iso1.symmetric_difference(iso2),\n",
    "            iso2.symmetric_difference(iso3),\n",
    "            iso3.symmetric_difference(iso4),\n",
    "            iso4.symmetric_difference(iso5),\n",
    "            iso5.symmetric_difference(iso6),\n",
    "            iso6.symmetric_difference(iso7), iso7]).geoms), geometry=gpd.GeoSeries(MultiPolygon([iso0.symmetric_difference(iso1),\n",
    "            iso1.symmetric_difference(iso2),\n",
    "            iso2.symmetric_difference(iso3),\n",
    "            iso3.symmetric_difference(iso4),\n",
    "            iso4.symmetric_difference(iso5),\n",
    "            iso5.symmetric_difference(iso6),\n",
    "            iso6.symmetric_difference(iso7), iso7]).geoms))\n",
    "    except:\n",
    "        TypeError\n",
    "        try:\n",
    "            block_SHAPE = gpd.GeoDataFrame(gpd.GeoSeries(MultiPolygon([iso0.symmetric_difference(iso1),\n",
    "                iso1.symmetric_difference(iso2),\n",
    "                iso2.symmetric_difference(iso3),\n",
    "                iso3.symmetric_difference(iso4),\n",
    "                iso4.symmetric_difference(iso5),\n",
    "                iso5.symmetric_difference(iso7), iso7]).geoms), geometry=gpd.GeoSeries(MultiPolygon([iso0.symmetric_difference(iso1),\n",
    "                iso1.symmetric_difference(iso2),\n",
    "                iso2.symmetric_difference(iso3),\n",
    "                iso3.symmetric_difference(iso4),\n",
    "                iso4.symmetric_difference(iso5),\n",
    "                iso5.symmetric_difference(iso7), iso7]).geoms))\n",
    "        except:\n",
    "            TypeError\n",
    "            block_SHAPE = gpd.GeoDataFrame(gpd.GeoSeries(MultiPolygon([iso0.symmetric_difference(iso1),\n",
    "                iso1.symmetric_difference(iso2),\n",
    "                iso2.symmetric_difference(iso3),\n",
    "                iso3.symmetric_difference(iso4),\n",
    "                iso4.symmetric_difference(iso7), iso7]).geoms), geometry=gpd.GeoSeries(MultiPolygon([iso0.symmetric_difference(iso1),\n",
    "                iso1.symmetric_difference(iso2),\n",
    "                iso2.symmetric_difference(iso3),\n",
    "                iso3.symmetric_difference(iso4),\n",
    "                iso4.symmetric_difference(iso7), iso7]).geoms))\n",
    "    spatial_op1 = list(gpd.sjoin(amenities_GEO, block_SHAPE, how=\"left\", op='within').index_right)\n",
    "    #print(spatial_op1)\n",
    "    spatial_op2 = list(gpd.sjoin(APW_GEO, block_SHAPE, how=\"left\", op='within').index_right)\n",
    "    #print(spatial_op2)\n",
    "    indexes = spatial_op1 + spatial_op2\n",
    "    #print(indexes)\n",
    "    blockMatrix_walk.ix[:,i] = indexes\n",
    "    print(str(i) + \" out of \" + str(len(isochrone_polys_walk)))\n",
    "#elapsed = timeit.default_timer() - start_time\n",
    "#print(elapsed)"
   ]
  },
  {
   "cell_type": "code",
   "execution_count": null,
   "metadata": {
    "scrolled": true
   },
   "outputs": [],
   "source": [
    "#start_time = timeit.default_timer()\n",
    "#consider spatial join/intersection\n",
    "trip_times = [1, 3, 5, 10, 15, 20, 25, 30]\n",
    "count = 0\n",
    "for i in range(2908,4359):\n",
    "    amenities_GEO = gpd.GeoDataFrame(amenities.geometry, geometry=amenities.geometry)\n",
    "    APW_GEO = gpd.GeoDataFrame(APW.geometry.centroid, geometry=APW.geometry.centroid)\n",
    "    iso = isochrone_polys_walk.ix[i]\n",
    "    iso0 = shapely.wkt.loads(iso[1])\n",
    "    iso1 = shapely.wkt.loads(iso[2])\n",
    "    iso2 = shapely.wkt.loads(iso[3])\n",
    "    iso3 = shapely.wkt.loads(iso[4])\n",
    "    iso4 = shapely.wkt.loads(iso[5])\n",
    "    iso5 = shapely.wkt.loads(iso[6])\n",
    "    iso6 = shapely.wkt.loads(iso[7])\n",
    "    iso7 = shapely.wkt.loads(iso[8])\n",
    "    try:\n",
    "        block_SHAPE = gpd.GeoDataFrame(gpd.GeoSeries(MultiPolygon([iso0.symmetric_difference(iso1),\n",
    "            iso1.symmetric_difference(iso2),\n",
    "            iso2.symmetric_difference(iso3),\n",
    "            iso3.symmetric_difference(iso4),\n",
    "            iso4.symmetric_difference(iso5),\n",
    "            iso5.symmetric_difference(iso6),\n",
    "            iso6.symmetric_difference(iso7), iso7]).geoms), geometry=gpd.GeoSeries(MultiPolygon([iso0.symmetric_difference(iso1),\n",
    "            iso1.symmetric_difference(iso2),\n",
    "            iso2.symmetric_difference(iso3),\n",
    "            iso3.symmetric_difference(iso4),\n",
    "            iso4.symmetric_difference(iso5),\n",
    "            iso5.symmetric_difference(iso6),\n",
    "            iso6.symmetric_difference(iso7), iso7]).geoms))\n",
    "    except:\n",
    "        TypeError\n",
    "        try:\n",
    "            block_SHAPE = gpd.GeoDataFrame(gpd.GeoSeries(MultiPolygon([iso0.symmetric_difference(iso1),\n",
    "                iso1.symmetric_difference(iso2),\n",
    "                iso2.symmetric_difference(iso3),\n",
    "                iso3.symmetric_difference(iso4),\n",
    "                iso4.symmetric_difference(iso5),\n",
    "                iso5.symmetric_difference(iso7), iso7]).geoms), geometry=gpd.GeoSeries(MultiPolygon([iso0.symmetric_difference(iso1),\n",
    "                iso1.symmetric_difference(iso2),\n",
    "                iso2.symmetric_difference(iso3),\n",
    "                iso3.symmetric_difference(iso4),\n",
    "                iso4.symmetric_difference(iso5),\n",
    "                iso5.symmetric_difference(iso7), iso7]).geoms))\n",
    "        except:\n",
    "            TypeError\n",
    "            block_SHAPE = gpd.GeoDataFrame(gpd.GeoSeries(MultiPolygon([iso0.symmetric_difference(iso1),\n",
    "                iso1.symmetric_difference(iso2),\n",
    "                iso2.symmetric_difference(iso3),\n",
    "                iso3.symmetric_difference(iso4),\n",
    "                iso4.symmetric_difference(iso7), iso7]).geoms), geometry=gpd.GeoSeries(MultiPolygon([iso0.symmetric_difference(iso1),\n",
    "                iso1.symmetric_difference(iso2),\n",
    "                iso2.symmetric_difference(iso3),\n",
    "                iso3.symmetric_difference(iso4),\n",
    "                iso4.symmetric_difference(iso7), iso7]).geoms))\n",
    "    spatial_op1 = list(gpd.sjoin(amenities_GEO, block_SHAPE, how=\"left\", op='within').index_right)\n",
    "    #print(spatial_op1)\n",
    "    spatial_op2 = list(gpd.sjoin(APW_GEO, block_SHAPE, how=\"left\", op='within').index_right)\n",
    "    #print(spatial_op2)\n",
    "    indexes = spatial_op1 + spatial_op2\n",
    "    #print(indexes)\n",
    "    blockMatrix_walk.ix[:,i] = indexes\n",
    "    print(str(i) + \" out of \" + str(len(isochrone_polys_walk)))\n",
    "#elapsed = timeit.default_timer() - start_time\n",
    "#print(elapsed)"
   ]
  },
  {
   "cell_type": "code",
   "execution_count": null,
   "metadata": {
    "scrolled": true
   },
   "outputs": [],
   "source": [
    "#start_time = timeit.default_timer()\n",
    "#consider spatial join/intersection\n",
    "trip_times = [1, 3, 5, 10, 15, 20, 25, 30]\n",
    "count = 0\n",
    "for i in range(4362,len(isochrone_polys_walk)):\n",
    "    amenities_GEO = gpd.GeoDataFrame(amenities.geometry, geometry=amenities.geometry)\n",
    "    APW_GEO = gpd.GeoDataFrame(APW.geometry.centroid, geometry=APW.geometry.centroid)\n",
    "    iso = isochrone_polys_walk.ix[i]\n",
    "    iso0 = shapely.wkt.loads(iso[1])\n",
    "    iso1 = shapely.wkt.loads(iso[2])\n",
    "    iso2 = shapely.wkt.loads(iso[3])\n",
    "    iso3 = shapely.wkt.loads(iso[4])\n",
    "    iso4 = shapely.wkt.loads(iso[5])\n",
    "    iso5 = shapely.wkt.loads(iso[6])\n",
    "    iso6 = shapely.wkt.loads(iso[7])\n",
    "    iso7 = shapely.wkt.loads(iso[8])\n",
    "    try:\n",
    "        block_SHAPE = gpd.GeoDataFrame(gpd.GeoSeries(MultiPolygon([iso0.symmetric_difference(iso1),\n",
    "            iso1.symmetric_difference(iso2),\n",
    "            iso2.symmetric_difference(iso3),\n",
    "            iso3.symmetric_difference(iso4),\n",
    "            iso4.symmetric_difference(iso5),\n",
    "            iso5.symmetric_difference(iso6),\n",
    "            iso6.symmetric_difference(iso7), iso7]).geoms), geometry=gpd.GeoSeries(MultiPolygon([iso0.symmetric_difference(iso1),\n",
    "            iso1.symmetric_difference(iso2),\n",
    "            iso2.symmetric_difference(iso3),\n",
    "            iso3.symmetric_difference(iso4),\n",
    "            iso4.symmetric_difference(iso5),\n",
    "            iso5.symmetric_difference(iso6),\n",
    "            iso6.symmetric_difference(iso7), iso7]).geoms))\n",
    "    except:\n",
    "        TypeError\n",
    "        try:\n",
    "            block_SHAPE = gpd.GeoDataFrame(gpd.GeoSeries(MultiPolygon([iso0.symmetric_difference(iso1),\n",
    "                iso1.symmetric_difference(iso2),\n",
    "                iso2.symmetric_difference(iso3),\n",
    "                iso3.symmetric_difference(iso4),\n",
    "                iso4.symmetric_difference(iso5),\n",
    "                iso5.symmetric_difference(iso7), iso7]).geoms), geometry=gpd.GeoSeries(MultiPolygon([iso0.symmetric_difference(iso1),\n",
    "                iso1.symmetric_difference(iso2),\n",
    "                iso2.symmetric_difference(iso3),\n",
    "                iso3.symmetric_difference(iso4),\n",
    "                iso4.symmetric_difference(iso5),\n",
    "                iso5.symmetric_difference(iso7), iso7]).geoms))\n",
    "        except:\n",
    "            TypeError\n",
    "            block_SHAPE = gpd.GeoDataFrame(gpd.GeoSeries(MultiPolygon([iso0.symmetric_difference(iso1),\n",
    "                iso1.symmetric_difference(iso2),\n",
    "                iso2.symmetric_difference(iso3),\n",
    "                iso3.symmetric_difference(iso4),\n",
    "                iso4.symmetric_difference(iso7), iso7]).geoms), geometry=gpd.GeoSeries(MultiPolygon([iso0.symmetric_difference(iso1),\n",
    "                iso1.symmetric_difference(iso2),\n",
    "                iso2.symmetric_difference(iso3),\n",
    "                iso3.symmetric_difference(iso4),\n",
    "                iso4.symmetric_difference(iso7), iso7]).geoms))\n",
    "    spatial_op1 = list(gpd.sjoin(amenities_GEO, block_SHAPE, how=\"left\", op='within').index_right)\n",
    "    #print(spatial_op1)\n",
    "    spatial_op2 = list(gpd.sjoin(APW_GEO, block_SHAPE, how=\"left\", op='within').index_right)\n",
    "    #print(spatial_op2)\n",
    "    indexes = spatial_op1 + spatial_op2\n",
    "    #print(indexes)\n",
    "    blockMatrix_walk.ix[:,i] = indexes\n",
    "    print(str(i) + \" out of \" + str(len(isochrone_polys_walk)))\n",
    "#elapsed = timeit.default_timer() - start_time\n",
    "#print(elapsed)"
   ]
  },
  {
   "cell_type": "code",
   "execution_count": null,
   "metadata": {},
   "outputs": [],
   "source": [
    "blockMatrix_walk.to_csv('blockMatrix_walk.gz', compression='gzip')"
   ]
  },
  {
   "cell_type": "code",
   "execution_count": null,
   "metadata": {},
   "outputs": [],
   "source": [
    "#Sorting algorithm for transit isochrone dataset\n",
    "def sort(geo):\n",
    "    if iso1.contains(geo):\n",
    "        return 7\n",
    "    elif iso3.contains(geo):\n",
    "        return 6\n",
    "    elif iso5.contains(geo):\n",
    "        return 5\n",
    "    elif iso10.contains(geo):\n",
    "        return 4\n",
    "    elif iso15.contains(geo):\n",
    "        return 3\n",
    "    elif iso20.contains(geo):\n",
    "        return 2\n",
    "    elif iso25.contains(geo):\n",
    "        return 1\n",
    "    elif iso30.contains(geo):\n",
    "        return 0\n",
    "    else:\n",
    "        return 10"
   ]
  },
  {
   "cell_type": "code",
   "execution_count": null,
   "metadata": {},
   "outputs": [],
   "source": [
    "isochrones_polys_transit = pd.read_csv('transitIsochrones_12132018.csv')"
   ]
  },
  {
   "cell_type": "code",
   "execution_count": null,
   "metadata": {
    "scrolled": true
   },
   "outputs": [],
   "source": [
    "#start_time = timeit.default_timer()\n",
    "#consider spatial join/intersection\n",
    "#SEE COMMENTS ABOVE FOR PROCEDURE - SORTING APPROACH IS SLIGHTLY DIFFERENT, see fn above\n",
    "trip_times = [1, 3, 5, 10, 15, 20, 25, 30]\n",
    "count = 0\n",
    "amenities_GEO = gpd.GeoDataFrame(amenities.geometry, geometry=amenities.geometry)\n",
    "APW_GEO = gpd.GeoDataFrame(APW.geometry.centroid, geometry=APW.geometry.centroid)\n",
    "for geoid in isochrones_polys_transit.index.unique():\n",
    "    isochrones = isochrones_polys_transit.ix[geoid,:]\n",
    "    iso1 = shapely.wkt.loads(isochrones['1'])\n",
    "    iso3 = shapely.wkt.loads(isochrones['3'])\n",
    "    iso5 = shapely.wkt.loads(isochrones['5'])\n",
    "    iso10 = shapely.wkt.loads(isochrones['10'])\n",
    "    iso15 = shapely.wkt.loads(isochrones['15'])\n",
    "    iso20 = shapely.wkt.loads(isochrones['20'])\n",
    "    iso25 = shapely.wkt.loads(isochrones['25'])\n",
    "    iso30 = shapely.wkt.loads(isochrones['30'])\n",
    "    spatial_op1 = list(amenities_GEO.geometry.apply(sort))\n",
    "    spatial_op2 = list(APW_GEO.geometry.apply(sort))\n",
    "    indexes = spatial_op1 + spatial_op2\n",
    "    #print(indexes)\n",
    "    blockMatrix_transit.ix[:,('0' + str(geoid))] = indexes\n",
    "    print(str(count) + \" out of \" + str(len(isochrones_polys_transit)))\n",
    "    count += 1\n",
    "#elapsed = timeit.default_timer() - start_time\n",
    "#print(elapsed)"
   ]
  },
  {
   "cell_type": "code",
   "execution_count": null,
   "metadata": {},
   "outputs": [],
   "source": [
    "blockMatrix_transit.to_csv('blockMatrix_transit.gz', compression='gzip')"
   ]
  },
  {
   "cell_type": "markdown",
   "metadata": {},
   "source": [
    "# Join to create full OD matrix"
   ]
  },
  {
   "cell_type": "code",
   "execution_count": 2,
   "metadata": {},
   "outputs": [],
   "source": [
    "#Haven't incorporated this yet but should be relatively easy\n",
    "type_id_set = pd.read_csv('SafeGraphPlacesTypes.csv')"
   ]
  },
  {
   "cell_type": "code",
   "execution_count": null,
   "metadata": {},
   "outputs": [],
   "source": [
    "#To add types to the full stack\n",
    "test = pd.DataFrame(blockMatrix_bike.ix[:,-1])\n",
    "for i in range(0,4501):\n",
    "    test = test.append(pd.DataFrame(blockMatrix_bike.ix[:,-1]))"
   ]
  },
  {
   "cell_type": "code",
   "execution_count": null,
   "metadata": {},
   "outputs": [],
   "source": [
    "#Function to convert classes assigned above to actual travel times\n",
    "def filterstoTimes(x):\n",
    "    if x == 0:\n",
    "        return (30+25)/2\n",
    "    elif x == 1:\n",
    "        return (20+25)/2\n",
    "    elif x == 2:\n",
    "        return (20+15)/2\n",
    "    elif x == 3:\n",
    "        return (15 + 10)/2\n",
    "    elif x == 4:\n",
    "        return (10 + 5) / 2\n",
    "    elif x == 5:\n",
    "        return (5+ 3) / 2\n",
    "    elif x == 6:\n",
    "        return 2\n",
    "    elif x == 7:\n",
    "        return 0.5\n",
    "    else:\n",
    "        return 45"
   ]
  },
  {
   "cell_type": "code",
   "execution_count": null,
   "metadata": {},
   "outputs": [],
   "source": [
    "#convert categories to times - check dataset before applying to be sure the map is applied to the right subset\n",
    "blockMatrix_bike = blockMatrix_bike.applymap(filterstoTimes)\n",
    "blockMatrix_car = blockMatrix_car.applymap(filterstoTimes)\n",
    "blockMatrix_walk = blockMatrix_walk.applymap(filterstoTimes)\n",
    "blockMatrix_transit = blockMatrix_transit.applymap(filterstoTimes)"
   ]
  },
  {
   "cell_type": "code",
   "execution_count": null,
   "metadata": {},
   "outputs": [],
   "source": [
    "blockMatrix_bike.to_csv('blockMatrix_bike.gz',compression='gzip')\n",
    "blockMatrix_car.to_csv('blockMatrix_car.gz',compression='gzip')\n",
    "blockMatrix_walk.to_csv('blockMatrix_walk.gz',compression='gzip')\n",
    "blockMatrix_transit.to_csv('blockMatrix_transit.gz',compression='gzip')"
   ]
  },
  {
   "cell_type": "markdown",
   "metadata": {},
   "source": [
    "Note: this may have to be done incrementally to avoid memory/ram errors - write out as frequently as possible"
   ]
  },
  {
   "cell_type": "code",
   "execution_count": null,
   "metadata": {},
   "outputs": [],
   "source": [
    "fullStack = car_stack[['AmenityID', 'BlockID', 'carTime']]\n",
    "fullStack = fullStack.sort_values([\"AmenityID\", \"BlockID\"])"
   ]
  },
  {
   "cell_type": "code",
   "execution_count": null,
   "metadata": {},
   "outputs": [],
   "source": [
    "walk_stack = blockMatrix_walk.stack().reset_index()\n",
    "walk_stack.columns = ['AmenityID', \"BlockID\",'WalkTime']\n",
    "walk_stack = walk_stack.sort_values([\"AmenityID\", \"BlockID\"])"
   ]
  },
  {
   "cell_type": "code",
   "execution_count": 6,
   "metadata": {},
   "outputs": [],
   "source": [
    "bike_stack = blockMatrix_bike.stack().reset_index()\n",
    "bike_stack.columns = ['AmenityID', \"BlockID\",'BikeTime']\n",
    "bike_stack = bike_stack.sort_values([\"AmenityID\", \"BlockID\"])"
   ]
  },
  {
   "cell_type": "code",
   "execution_count": null,
   "metadata": {},
   "outputs": [],
   "source": [
    "transit_stack = blockMatrix_transit.stack().reset_index()\n",
    "transit_stack.columns = ['AmenityID', \"BlockID\",'TransitTime']\n",
    "transit_stack = transit_stack.sort_values([\"AmenityID\", \"BlockID\"])"
   ]
  },
  {
   "cell_type": "code",
   "execution_count": null,
   "metadata": {},
   "outputs": [],
   "source": [
    "fullStack['WalkTime'] = walk_stack.WalkTime"
   ]
  },
  {
   "cell_type": "code",
   "execution_count": null,
   "metadata": {},
   "outputs": [],
   "source": [
    "fullStack['BikeTime'] = bike_stack.BikeTime"
   ]
  },
  {
   "cell_type": "code",
   "execution_count": null,
   "metadata": {},
   "outputs": [],
   "source": [
    "fullStack['TransitTime'] = transit_stack.transitTime"
   ]
  },
  {
   "cell_type": "code",
   "execution_count": null,
   "metadata": {},
   "outputs": [],
   "source": [
    "#adding types\n"
   ]
  }
 ],
 "metadata": {
  "kernelspec": {
   "display_name": "Python 3",
   "language": "python",
   "name": "python3"
  },
  "language_info": {
   "codemirror_mode": {
    "name": "ipython",
    "version": 3
   },
   "file_extension": ".py",
   "mimetype": "text/x-python",
   "name": "python",
   "nbconvert_exporter": "python",
   "pygments_lexer": "ipython3",
   "version": "3.6.5"
  }
 },
 "nbformat": 4,
 "nbformat_minor": 2
}

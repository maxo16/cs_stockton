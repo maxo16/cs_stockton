{
 "cells": [
  {
   "cell_type": "markdown",
   "metadata": {},
   "source": [
    "# Imports"
   ]
  },
  {
   "cell_type": "code",
   "execution_count": null,
   "metadata": {
    "collapsed": true
   },
   "outputs": [],
   "source": [
    "import osmnx as ox, networkx as nx, geopandas as gpd, matplotlib.pyplot as plt\n",
    "from shapely.geometry import Point, LineString, Polygon\n",
    "from descartes import PolygonPatch\n",
    "import pandas as pd\n",
    "import numpy as np\n",
    "ox.config(log_console=True, use_cache=True)"
   ]
  },
  {
   "cell_type": "markdown",
   "metadata": {},
   "source": [
    "# Data loads and configurations"
   ]
  },
  {
   "cell_type": "code",
   "execution_count": null,
   "metadata": {
    "collapsed": true
   },
   "outputs": [],
   "source": [
    "# configure the place, network type, trip times, and travel speed\n",
    "place = 'San Joaquin County, CA, USA'\n",
    "trip_times = [1, 3, 5, 10, 15, 20, 25, 30] #in minutes\n",
    "travel_speed_walk = 4.5 #walking speed in km/hour\n",
    "travel_speed_bike = 15\n",
    "travel_speed_car = 40\n",
    "G_walk = ox.graph_from_place(place, network_type='walk')\n",
    "G_bike = ox.graph_from_place(place, network_type='bike')\n",
    "G_car = ox.graph_from_place(place, network_type='drive')"
   ]
  },
  {
   "cell_type": "code",
   "execution_count": null,
   "metadata": {
    "collapsed": true
   },
   "outputs": [],
   "source": [
    "#Stockton Blocks\n",
    "BGs = gpd.read_file('blocks/Census2010Block.shp')\n",
    "BGs = BGs.to_crs(epsg = 4326)"
   ]
  },
  {
   "cell_type": "code",
   "execution_count": null,
   "metadata": {
    "collapsed": true
   },
   "outputs": [],
   "source": [
    "BGs = BGs[BGs.GEOID10 == '060770022023002']"
   ]
  },
  {
   "cell_type": "code",
   "execution_count": null,
   "metadata": {
    "collapsed": true
   },
   "outputs": [],
   "source": [
    "#Generate centroids for each block\n",
    "centroids = BGs['geometry'].centroid\n",
    "xs = []\n",
    "ys = []\n",
    "for centroid in enumerate(centroids):\n",
    "    xs.append(centroid[1].xy[0])\n",
    "    ys.append(centroid[1].xy[1])"
   ]
  },
  {
   "cell_type": "code",
   "execution_count": null,
   "metadata": {
    "collapsed": true
   },
   "outputs": [],
   "source": [
    "# add an edge attribute for time in minutes required to traverse each edge\n",
    "# WALK\n",
    "meters_per_minute = travel_speed_walk * 1000 / 60 #km per hour to m per minute\n",
    "for u, v, k, data in G_walk.edges(data=True, keys=True):\n",
    "    data['time'] = data['length'] / meters_per_minute"
   ]
  },
  {
   "cell_type": "code",
   "execution_count": null,
   "metadata": {
    "collapsed": true
   },
   "outputs": [],
   "source": [
    "# add an edge attribute for time in minutes required to traverse each edge\n",
    "# bike\n",
    "meters_per_minute = travel_speed_bike * 1000 / 60 #km per hour to m per minute\n",
    "for u, v, k, data in G_bike.edges(data=True, keys=True):\n",
    "    data['time'] = data['length'] / meters_per_minute"
   ]
  },
  {
   "cell_type": "code",
   "execution_count": null,
   "metadata": {
    "collapsed": true
   },
   "outputs": [],
   "source": [
    "# add an edge attribute for time in minutes required to traverse each edge\n",
    "# drive\n",
    "meters_per_minute = travel_speed_car * 1000 / 60 #km per hour to m per minute\n",
    "for u, v, k, data in G_car.edges(data=True, keys=True):\n",
    "    data['time'] = data['length'] / meters_per_minute"
   ]
  },
  {
   "cell_type": "code",
   "execution_count": null,
   "metadata": {
    "collapsed": true
   },
   "outputs": [],
   "source": [
    "isochrone_polys = []\n",
    "center_node = ox.get_nearest_node(G_car, (ys[0][0], xs[0][0]))\n",
    "for trip_time in sorted(trip_times, reverse=True):\n",
    "    subgraph = nx.ego_graph(G_car, center_node, radius=trip_time, distance='time')\n",
    "    node_points = [Point((data['x'], data['y'])) for node, data in subgraph.nodes(data=True)]\n",
    "    bounding_poly = gpd.GeoSeries(node_points).unary_union.convex_hull\n",
    "    isochrone_polys.append(bounding_poly)\n",
    "\n",
    "# plot the network then add isochrones as colored descartes polygon patches\n",
    "iso_colors = ox.get_colors(n=len(trip_times), cmap='Reds', start=0.3, return_hex=True)\n",
    "fig, ax = ox.plot_graph(G_car, fig_height=8, show=False, close=False, edge_color='k', edge_alpha=0.2, node_color='none')\n",
    "for polygon, fc in zip(isochrone_polys, iso_colors):\n",
    "    patch = PolygonPatch(polygon, fc=fc, ec='none', alpha=0.6, zorder=-1)\n",
    "    ax.add_patch(patch)\n",
    "plt.show()"
   ]
  },
  {
   "cell_type": "code",
   "execution_count": null,
   "metadata": {
    "collapsed": true
   },
   "outputs": [],
   "source": [
    "isochrone_car = pd.DataFrame(isochrone_polys)\n",
    "isochrone_car['range'] = [1,3,5,10,15,20,25,30]"
   ]
  },
  {
   "cell_type": "code",
   "execution_count": null,
   "metadata": {
    "collapsed": true
   },
   "outputs": [],
   "source": [
    "isochrone_car = gpd.GeoDataFrame(isochrone_car, geometry=0)"
   ]
  },
  {
   "cell_type": "code",
   "execution_count": null,
   "metadata": {
    "collapsed": true
   },
   "outputs": [],
   "source": [
    "isochrone_car['geometry'] = isochrone_car.ix[:,0]"
   ]
  },
  {
   "cell_type": "code",
   "execution_count": null,
   "metadata": {
    "collapsed": true
   },
   "outputs": [],
   "source": [
    "isochrone_car.range = isochrone_car.range.astype(str)"
   ]
  },
  {
   "cell_type": "code",
   "execution_count": null,
   "metadata": {
    "collapsed": true
   },
   "outputs": [],
   "source": [
    "isochrone_car = isochrone_car.set_geometry('geometry')\n",
    "isochrone_car[['geometry','range']].to_file('carIso_1_6_19')"
   ]
  },
  {
   "cell_type": "code",
   "execution_count": null,
   "metadata": {
    "collapsed": true
   },
   "outputs": [],
   "source": [
    "isochrone_polys = []\n",
    "center_node = ox.get_nearest_node(G_bike, (ys[0][0], xs[0][0]))\n",
    "for trip_time in sorted(trip_times, reverse=True):\n",
    "    subgraph = nx.ego_graph(G_bike, center_node, radius=trip_time, distance='time')\n",
    "    node_points = [Point((data['x'], data['y'])) for node, data in subgraph.nodes(data=True)]\n",
    "    bounding_poly = gpd.GeoSeries(node_points).unary_union.convex_hull\n",
    "    isochrone_polys.append(bounding_poly)\n",
    "\n",
    "# plot the network then add isochrones as colored desbiketes polygon patches\n",
    "iso_colors = ox.get_colors(n=len(trip_times), cmap='Reds', start=0.3, return_hex=True)\n",
    "fig, ax = ox.plot_graph(G_bike, fig_height=8, show=False, close=False, edge_color='k', edge_alpha=0.2, node_color='none')\n",
    "for polygon, fc in zip(isochrone_polys, iso_colors):\n",
    "    patch = PolygonPatch(polygon, fc=fc, ec='none', alpha=0.6, zorder=-1)\n",
    "    ax.add_patch(patch)\n",
    "plt.show()"
   ]
  },
  {
   "cell_type": "code",
   "execution_count": null,
   "metadata": {
    "collapsed": true
   },
   "outputs": [],
   "source": [
    "isochrone_bike = pd.DataFrame(isochrone_polys)\n",
    "isochrone_bike['range'] = [1,3,5,10,15,20,25,30]"
   ]
  },
  {
   "cell_type": "code",
   "execution_count": null,
   "metadata": {
    "collapsed": true
   },
   "outputs": [],
   "source": [
    "isochrone_bike = gpd.GeoDataFrame(isochrone_bike, geometry=0)"
   ]
  },
  {
   "cell_type": "code",
   "execution_count": null,
   "metadata": {
    "collapsed": true
   },
   "outputs": [],
   "source": [
    "isochrone_bike['geometry'] = isochrone_bike.ix[:,0]"
   ]
  },
  {
   "cell_type": "code",
   "execution_count": null,
   "metadata": {
    "collapsed": true
   },
   "outputs": [],
   "source": [
    "isochrone_bike.range = isochrone_bike.range.astype(str)"
   ]
  },
  {
   "cell_type": "code",
   "execution_count": null,
   "metadata": {
    "collapsed": true
   },
   "outputs": [],
   "source": [
    "isochrone_bike = isochrone_bike.set_geometry('geometry')\n",
    "isochrone_bike[['geometry','range']].to_file('bikeIso_1_6_19')"
   ]
  },
  {
   "cell_type": "code",
   "execution_count": null,
   "metadata": {
    "collapsed": true
   },
   "outputs": [],
   "source": [
    "isochrone_polys = []\n",
    "center_node = ox.get_nearest_node(G_walk, (ys[0][0], xs[0][0]))\n",
    "for trip_time in sorted(trip_times, reverse=True):\n",
    "    subgraph = nx.ego_graph(G_walk, center_node, radius=trip_time, distance='time')\n",
    "    node_points = [Point((data['x'], data['y'])) for node, data in subgraph.nodes(data=True)]\n",
    "    bounding_poly = gpd.GeoSeries(node_points).unary_union.convex_hull\n",
    "    isochrone_polys.append(bounding_poly)\n",
    "\n",
    "# plot the network then add isochrones as colored deswalktes polygon patches\n",
    "iso_colors = ox.get_colors(n=len(trip_times), cmap='Reds', start=0.3, return_hex=True)\n",
    "fig, ax = ox.plot_graph(G_walk, fig_height=8, show=False, close=False, edge_color='k', edge_alpha=0.2, node_color='none')\n",
    "for polygon, fc in zip(isochrone_polys, iso_colors):\n",
    "    patch = PolygonPatch(polygon, fc=fc, ec='none', alpha=0.6, zorder=-1)\n",
    "    ax.add_patch(patch)\n",
    "plt.show()"
   ]
  },
  {
   "cell_type": "code",
   "execution_count": null,
   "metadata": {
    "collapsed": true
   },
   "outputs": [],
   "source": [
    "isochrone_walk = pd.DataFrame(isochrone_polys)\n",
    "isochrone_walk['range'] = [1,3,5,10,15,20,25,30]"
   ]
  },
  {
   "cell_type": "code",
   "execution_count": null,
   "metadata": {
    "collapsed": true
   },
   "outputs": [],
   "source": [
    "isochrone_walk = gpd.GeoDataFrame(isochrone_walk, geometry=0)"
   ]
  },
  {
   "cell_type": "code",
   "execution_count": null,
   "metadata": {
    "collapsed": true
   },
   "outputs": [],
   "source": [
    "isochrone_walk['geometry'] = isochrone_walk.ix[:,0]"
   ]
  },
  {
   "cell_type": "code",
   "execution_count": null,
   "metadata": {
    "collapsed": true
   },
   "outputs": [],
   "source": [
    "isochrone_walk.range = isochrone_walk.range.astype(str)"
   ]
  },
  {
   "cell_type": "code",
   "execution_count": null,
   "metadata": {
    "collapsed": true
   },
   "outputs": [],
   "source": [
    "isochrone_walk[['geometry','range']]"
   ]
  },
  {
   "cell_type": "code",
   "execution_count": null,
   "metadata": {
    "collapsed": true
   },
   "outputs": [],
   "source": [
    "isochrone_walk = isochrone_walk.set_geometry('geometry')"
   ]
  },
  {
   "cell_type": "code",
   "execution_count": null,
   "metadata": {
    "collapsed": true
   },
   "outputs": [],
   "source": [
    "isochrone_walk[['range', 'geometry']][~isochrone_walk.geometry.type.isin([\"LineString\", 'Point'])].to_file('walkIso_1_6_19')"
   ]
  }
 ],
 "metadata": {
  "kernelspec": {
   "display_name": "Python 2",
   "language": "python",
   "name": "python2"
  },
  "language_info": {
   "codemirror_mode": {
    "name": "ipython",
    "version": 2
   },
   "file_extension": ".py",
   "mimetype": "text/x-python",
   "name": "python",
   "nbconvert_exporter": "python",
   "pygments_lexer": "ipython2",
   "version": "2.7.14"
  }
 },
 "nbformat": 4,
 "nbformat_minor": 2
}

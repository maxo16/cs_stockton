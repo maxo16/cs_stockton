{
 "cells": [
  {
   "cell_type": "markdown",
   "metadata": {},
   "source": [
    "# Imports"
   ]
  },
  {
   "cell_type": "code",
   "execution_count": 1,
   "metadata": {},
   "outputs": [],
   "source": [
    "import osmnx as ox, networkx as nx, geopandas as gpd, matplotlib.pyplot as plt\n",
    "from shapely.geometry import Point, LineString, Polygon\n",
    "from descartes import PolygonPatch\n",
    "import pandas as pd\n",
    "import numpy as np\n",
    "ox.config(log_console=True, use_cache=True)"
   ]
  },
  {
   "cell_type": "markdown",
   "metadata": {},
   "source": [
    "# Data loads and configurations"
   ]
  },
  {
   "cell_type": "code",
   "execution_count": 2,
   "metadata": {},
   "outputs": [],
   "source": [
    "# configure the place, network type, trip times, and travel speed\n",
    "place = 'San Joaquin County, CA, USA'\n",
    "trip_times = [1, 3, 5, 10, 15, 20, 25, 30] #in minutes\n",
    "travel_speed_walk = 4.5 #walking speed in km/hour\n",
    "travel_speed_bike = 15\n",
    "travel_speed_car = 40\n",
    "G_walk = ox.graph_from_place(place, network_type='walk')\n",
    "G_bike = ox.graph_from_place(place, network_type='bike')\n",
    "G_car = ox.graph_from_place(place, network_type='drive')"
   ]
  },
  {
   "cell_type": "code",
   "execution_count": null,
   "metadata": {},
   "outputs": [],
   "source": [
    "fig, ax = ox.plot_graph(G_walk,fig_height=6,node_size=0)\n",
    "ax.set_title(\"Network of roads for walking in stockton\", fontdict={\"fontsize\": \"25\", \"fontweight\" : \"3\"})"
   ]
  },
  {
   "cell_type": "code",
   "execution_count": null,
   "metadata": {},
   "outputs": [],
   "source": [
    "ox.plot_graph(G_walk,fig_height=6, node_color='#66ff6b')"
   ]
  },
  {
   "cell_type": "code",
   "execution_count": 3,
   "metadata": {},
   "outputs": [],
   "source": [
    "#Stockton Blocks\n",
    "BGs = gpd.read_file('blocks/Census2010Block.shp')\n",
    "BGs = BGs.to_crs(epsg = 4326)"
   ]
  },
  {
   "cell_type": "code",
   "execution_count": null,
   "metadata": {},
   "outputs": [],
   "source": [
    "city = ox.gdf_from_place('Stockton, California, USA')"
   ]
  },
  {
   "cell_type": "code",
   "execution_count": null,
   "metadata": {},
   "outputs": [],
   "source": [
    "#Generate geodataframe of blocks WITHIN the city of stockton\n",
    "BGs = gpd.overlay(BGs, city, how='intersection')"
   ]
  },
  {
   "cell_type": "code",
   "execution_count": null,
   "metadata": {},
   "outputs": [],
   "source": [
    "#Generate centroids for each block\n",
    "centroids = BGs['geometry'].centroid\n",
    "xs = []\n",
    "ys = []\n",
    "for centroid in enumerate(centroids):\n",
    "    xs.append(centroid[1].xy[0])\n",
    "    ys.append(centroid[1].xy[1])"
   ]
  },
  {
   "cell_type": "code",
   "execution_count": null,
   "metadata": {},
   "outputs": [],
   "source": [
    "# add an edge attribute for time in minutes required to traverse each edge\n",
    "# WALK\n",
    "meters_per_minute = travel_speed_walk * 1000 / 60 #km per hour to m per minute\n",
    "for u, v, k, data in G_walk.edges(data=True, keys=True):\n",
    "    data['time'] = data['length'] / meters_per_minute"
   ]
  },
  {
   "cell_type": "code",
   "execution_count": null,
   "metadata": {},
   "outputs": [],
   "source": [
    "# add an edge attribute for time in minutes required to traverse each edge\n",
    "# bike\n",
    "meters_per_minute = travel_speed_bike * 1000 / 60 #km per hour to m per minute\n",
    "for u, v, k, data in G_bike.edges(data=True, keys=True):\n",
    "    data['time'] = data['length'] / meters_per_minute"
   ]
  },
  {
   "cell_type": "code",
   "execution_count": null,
   "metadata": {},
   "outputs": [],
   "source": [
    "# add an edge attribute for time in minutes required to traverse each edge\n",
    "# drive\n",
    "meters_per_minute = travel_speed_car * 1000 / 60 #km per hour to m per minute\n",
    "for u, v, k, data in G_car.edges(data=True, keys=True):\n",
    "    data['time'] = data['length'] / meters_per_minute"
   ]
  },
  {
   "cell_type": "markdown",
   "metadata": {},
   "source": [
    "# Some Sample Charts/Maps"
   ]
  },
  {
   "cell_type": "code",
   "execution_count": null,
   "metadata": {},
   "outputs": [],
   "source": [
    "BGs.plot()"
   ]
  },
  {
   "cell_type": "code",
   "execution_count": null,
   "metadata": {},
   "outputs": [],
   "source": [
    "isochrone_polys = []\n",
    "center_node = ox.get_nearest_node(G_car, (ys[12][0], xs[12][0]))\n",
    "for trip_time in sorted(trip_times, reverse=True):\n",
    "    subgraph = nx.ego_graph(G_car, center_node, radius=trip_time, distance='time')\n",
    "    node_points = [Point((data['x'], data['y'])) for node, data in subgraph.nodes(data=True)]\n",
    "    bounding_poly = gpd.GeoSeries(node_points).unary_union.convex_hull\n",
    "    isochrone_polys.append(bounding_poly)\n",
    "\n",
    "# plot the network then add isochrones as colored descartes polygon patches\n",
    "iso_colors = ox.get_colors(n=len(trip_times), cmap='Reds', start=0.3, return_hex=True)\n",
    "fig, ax = ox.plot_graph(G_car, fig_height=8, show=False, close=False, edge_color='k', edge_alpha=0.2, node_color='none')\n",
    "for polygon, fc in zip(isochrone_polys, iso_colors):\n",
    "    patch = PolygonPatch(polygon, fc=fc, ec='none', alpha=0.6, zorder=-1)\n",
    "    ax.add_patch(patch)\n",
    "plt.show()"
   ]
  },
  {
   "cell_type": "code",
   "execution_count": null,
   "metadata": {},
   "outputs": [],
   "source": [
    "isochrone_polys = []\n",
    "center_node = ox.get_nearest_node(G_bike, (ys[12][0], xs[12][0]))\n",
    "for trip_time in sorted(trip_times, reverse=True):\n",
    "    subgraph = nx.ego_graph(G_bike, center_node, radius=trip_time, distance='time')\n",
    "    node_points = [Point((data['x'], data['y'])) for node, data in subgraph.nodes(data=True)]\n",
    "    bounding_poly = gpd.GeoSeries(node_points).unary_union.convex_hull\n",
    "    isochrone_polys.append(bounding_poly)\n",
    "\n",
    "# plot the network then add isochrones as colored desbiketes polygon patches\n",
    "iso_colors = ox.get_colors(n=len(trip_times), cmap='Reds', start=0.3, return_hex=True)\n",
    "fig, ax = ox.plot_graph(G_bike, fig_height=8, show=False, close=False, edge_color='k', edge_alpha=0.2, node_color='none')\n",
    "for polygon, fc in zip(isochrone_polys, iso_colors):\n",
    "    patch = PolygonPatch(polygon, fc=fc, ec='none', alpha=0.6, zorder=-1)\n",
    "    ax.add_patch(patch)\n",
    "plt.show()"
   ]
  },
  {
   "cell_type": "code",
   "execution_count": null,
   "metadata": {},
   "outputs": [],
   "source": [
    "isochrone_polys = []\n",
    "center_node = ox.get_nearest_node(G_walk, (ys[12][0], xs[12][0]))\n",
    "for trip_time in sorted(trip_times, reverse=True):\n",
    "    subgraph = nx.ego_graph(G_walk, center_node, radius=trip_time, distance='time')\n",
    "    node_points = [Point((data['x'], data['y'])) for node, data in subgraph.nodes(data=True)]\n",
    "    bounding_poly = gpd.GeoSeries(node_points).unary_union.convex_hull\n",
    "    isochrone_polys.append(bounding_poly)\n",
    "\n",
    "# plot the network then add isochrones as colored deswalktes polygon patches\n",
    "iso_colors = ox.get_colors(n=len(trip_times), cmap='Reds', start=0.3, return_hex=True)\n",
    "fig, ax = ox.plot_graph(G_walk, fig_height=8, show=False, close=False, edge_color='k', edge_alpha=0.2, node_color='none')\n",
    "for polygon, fc in zip(isochrone_polys, iso_colors):\n",
    "    patch = PolygonPatch(polygon, fc=fc, ec='none', alpha=0.6, zorder=-1)\n",
    "    ax.add_patch(patch)\n",
    "plt.show()"
   ]
  },
  {
   "cell_type": "markdown",
   "metadata": {},
   "source": [
    "# Generate Isochrones - Walk, Bike, Drive\n",
    "\n",
    "This code is taken from this example in osmnx's github repo\n",
    "\n",
    "https://github.com/gboeing/osmnx-examples/blob/master/notebooks/13-isolines-isochrones.ipynb"
   ]
  },
  {
   "cell_type": "code",
   "execution_count": null,
   "metadata": {
    "scrolled": true
   },
   "outputs": [],
   "source": [
    "# make the isochrone polygons - WALK\n",
    "isochrone_polys_walk = []\n",
    "for i in range(0, len(centroids)):\n",
    "    print(i)\n",
    "    isochrone_polys = []\n",
    "    center_node = ox.get_nearest_node(G_walk, (ys[i][0], xs[i][0]))\n",
    "    for trip_time in sorted(trip_times, reverse=True):\n",
    "        subgraph = nx.ego_graph(G_walk, center_node, radius=trip_time, distance='time')\n",
    "        node_points = [Point((data['x'], data['y'])) for node, data in subgraph.nodes(data=True)]\n",
    "        bounding_poly = gpd.GeoSeries(node_points).unary_union.convex_hull\n",
    "        isochrone_polys.append(bounding_poly)\n",
    "    isochrone_polys_walk.append(isochrone_polys)"
   ]
  },
  {
   "cell_type": "code",
   "execution_count": null,
   "metadata": {
    "scrolled": true
   },
   "outputs": [],
   "source": [
    "# make the isochrone polygons - bike\n",
    "isochrone_polys_bike = []\n",
    "for i in range(0, len(centroids)):\n",
    "    print(i)\n",
    "    isochrone_polys = []\n",
    "    center_node = ox.get_nearest_node(G_bike, (ys[i][0], xs[i][0]))\n",
    "    for trip_time in sorted(trip_times, reverse=True):\n",
    "        subgraph = nx.ego_graph(G_bike, center_node, radius=trip_time, distance='time')\n",
    "        node_points = [Point((data['x'], data['y'])) for node, data in subgraph.nodes(data=True)]\n",
    "        bounding_poly = gpd.GeoSeries(node_points).unary_union.convex_hull\n",
    "        isochrone_polys.append(bounding_poly)\n",
    "    isochrone_polys_bike.append(isochrone_polys)"
   ]
  },
  {
   "cell_type": "code",
   "execution_count": null,
   "metadata": {
    "scrolled": true
   },
   "outputs": [],
   "source": [
    "# make the isochrone polygons - car\n",
    "isochrone_polys_car = []\n",
    "for i in range(0, len(centroids)):\n",
    "    print(i)\n",
    "    isochrone_polys = []\n",
    "    center_node = ox.get_nearest_node(G_car, (ys[i][0], xs[i][0]))\n",
    "    for trip_time in sorted(trip_times, reverse=True):\n",
    "        subgraph = nx.ego_graph(G_car, center_node, radius=trip_time, distance='time')\n",
    "        node_points = [Point((data['x'], data['y'])) for node, data in subgraph.nodes(data=True)]\n",
    "        bounding_poly = gpd.GeoSeries(node_points).unary_union.convex_hull\n",
    "        isochrone_polys.append(bounding_poly)\n",
    "    isochrone_polys_car.append(isochrone_polys)"
   ]
  }
 ],
 "metadata": {
  "kernelspec": {
   "display_name": "Python 3",
   "language": "python",
   "name": "python3"
  },
  "language_info": {
   "codemirror_mode": {
    "name": "ipython",
    "version": 3
   },
   "file_extension": ".py",
   "mimetype": "text/x-python",
   "name": "python",
   "nbconvert_exporter": "python",
   "pygments_lexer": "ipython3",
   "version": "3.6.5"
  }
 },
 "nbformat": 4,
 "nbformat_minor": 2
}
